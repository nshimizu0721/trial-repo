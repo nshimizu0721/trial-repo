{
 "cells": [
  {
   "cell_type": "markdown",
   "metadata": {},
   "source": [
    "# Preparation\n",
    "## Installation\n",
    "\n",
    "We assume here that you are familiar with [Jupyter Notebook](https://en.wikipedia.org/wiki/Project_Jupyter#Jupyter_Notebook) and have already installed Python and \n",
    "relevant packages, e.g., numpy, matplotlib, jupyterlab, etc.\n",
    "\n",
    "```{note}\n",
    "Do not confuse \"Jupyter Notebook\" and \"Jupyter Book\". The former is a file for programming, while the latter is a tool for publishing.\n",
    "```\n",
    "\n",
    "To install the Molass Library package, you can use pip as follows.\n",
    "\n",
    "```console\n",
    "pip install -U molass\n",
    "pip install -U molass_legacy\n",
    "```\n",
    "\n",
    "```{note}\n",
    "The molass package currently depends on molass_legacy. This dependency is planned to be removed. \n",
    "```\n",
    "\n",
    "## Tools for Jupyter Notebooks\n",
    "\n",
    "As tools for programming in Jupyter Notebooks, we recommend either of the following without excluding other alternatives.\n",
    "\n",
    "* [Jupyter Lab](https://jupyter.org/)\n",
    "* [Jupyter Extension in VS Code](https://code.visualstudio.com/docs/datascience/jupyter-notebooks)\n",
    "\n",
    "(download_data_for_this_tutorial)=\n",
    "## Download Data for this Tutorial\n",
    "\n",
    "To run and follow this tutorial, download data from the following links.\n",
    "\n",
    "* [tutorial_data.zip](../../data/tutorial_data.zip)\n",
    "* [simulated_data.zip](../../data/simulated_data.zip)  (in preparation, currently empty)\n",
    "\n",
    "You can use one or both of these. They are similar, but not the same. The former is from a real experiment on a few standard proteins, while the latter has been generated using simple, but not realistic, models.\n",
    "\n",
    "```{note}\n",
    "See [About Example Data Sets](about_example_data_sets) if you are interested in how they are built.\n",
    "```\n",
    "\n",
    "## Local Settings\n",
    "\n",
    "Those data sets you have downloaded will be referenced in the tutorial. You are supposed to unzip them and set the unzipped folder locations in a python script named \"local_settings.py\" placed in one of the upper folders relative to the notebook you run. Copy and modify the code block below to fit to your environment.\n",
    "\n",
    "```python\n",
    "LocalSettings = dict(\n",
    "    TUTORIAL_DATA=r\"D:\\MolassData\\tutorial_data\",   # unzipped data folder\n",
    "    SIMULATED_DATA=r\"D:\\MolassData\\simulated_data\", # unzipped data folder, optional\n",
    ")\n",
    "```\n",
    "\n",
    "Save the scirpt to any upper folder, e.g, like below.\n",
    "\n",
    "```\n",
    "    any_upper_foler/\n",
    "        local_settings.py\n",
    "        ...\n",
    "        parent_folder/\n",
    "            ...\n",
    "            current_folder/\n",
    "                working-notebook.ipynb\n",
    "```\n",
    "\n",
    "The get_local_settings() function introduced in the next section will search for this script walking upward several levels from the current folder until it finds the filename and import the settings dict you have specified.\n",
    "You can check your local settings in the next section."
   ]
  },
  {
   "cell_type": "markdown",
   "metadata": {},
   "source": [
    "## Local Settings Check \n",
    "To check your local settings, download this book by the button at the upper right corner and run it."
   ]
  },
  {
   "cell_type": "code",
   "execution_count": 1,
   "metadata": {},
   "outputs": [
    {
     "name": "stdout",
     "output_type": "stream",
     "text": [
      "[0] d:\\Github\\molass-tutorial\\chapters\\local_settings.py does not exist\n",
      "[1] d:\\Github\\molass-tutorial\\local_settings.py does not exist\n",
      "[2] d:\\Github\\local_settings.py found\n",
      "D:\\MolassData\\tutorial_data\n",
      "D:\\MolassData\\simulated_data\n"
     ]
    }
   ],
   "source": [
    "from molass.Local import get_local_settings\n",
    "local_settings = get_local_settings(debug=True)\n",
    "TUTORIAL_DATA = local_settings['TUTORIAL_DATA']\n",
    "SIMULATED_DATA = local_settings['SIMULATED_DATA']\n",
    "print(TUTORIAL_DATA)\n",
    "print(SIMULATED_DATA)"
   ]
  },
  {
   "cell_type": "markdown",
   "metadata": {},
   "source": [
    "```{note}\n",
    "For the check, be aware that you need only the signle cell just above. Other cells (markdown texts) are irrelevant.  \n",
    "```\n",
    "\n",
    "If the folder locations are printed as expected, you are ready to continue."
   ]
  }
 ],
 "metadata": {
  "kernelspec": {
   "display_name": "Python 3",
   "language": "python",
   "name": "python3"
  },
  "language_info": {
   "codemirror_mode": {
    "name": "ipython",
    "version": 3
   },
   "file_extension": ".py",
   "mimetype": "text/x-python",
   "name": "python",
   "nbconvert_exporter": "python",
   "pygments_lexer": "ipython3",
   "version": "3.12.9"
  }
 },
 "nbformat": 4,
 "nbformat_minor": 2
}
